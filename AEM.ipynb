{
 "cells": [
  {
   "cell_type": "code",
   "execution_count": 2,
   "metadata": {},
   "outputs": [],
   "source": [
    "#pytania: czy mamy zaczynać od któregoś konkretnego wierzchołka "
   ]
  },
  {
   "cell_type": "code",
   "execution_count": 41,
   "metadata": {},
   "outputs": [],
   "source": [
    "import numpy as np\n",
    "from scipy.spatial import distance_matrix\n",
    "import matplotlib.pyplot as plt\n",
    "import random"
   ]
  },
  {
   "cell_type": "markdown",
   "metadata": {},
   "source": [
    "# Load instance"
   ]
  },
  {
   "cell_type": "code",
   "execution_count": 42,
   "metadata": {},
   "outputs": [],
   "source": [
    "instance_number = 1  # 0 - \"kroA100.tsp\"    1 - \"kroB100.tsp\"\n",
    "instances_names = [\"kroA100.tsp\",\"kroB100.tsp\"]\n",
    "data = np.genfromtxt(f'instances/{instances_names[instance_number]}', skip_header=6, skip_footer=1, dtype='int64')[:,1:]"
   ]
  },
  {
   "cell_type": "markdown",
   "metadata": {},
   "source": [
    "# Calculating distance matrix"
   ]
  },
  {
   "cell_type": "code",
   "execution_count": 43,
   "metadata": {},
   "outputs": [],
   "source": [
    "def calc_distance_matrix(data):\n",
    "    dist_matrix = distance_matrix(data, data)\n",
    "    dist_matrix = np.around(dist_matrix, decimals=0)\n",
    "    dist_matrix = dist_matrix.astype(int)\n",
    "    return dist_matrix"
   ]
  },
  {
   "cell_type": "code",
   "execution_count": 44,
   "metadata": {},
   "outputs": [
    {
     "data": {
      "text/plain": [
       "array([[   0, 2607,  549, ...,  229,  618, 1249],\n",
       "       [2607,    0, 3154, ..., 2621, 3075, 2661],\n",
       "       [ 549, 3154,    0, ...,  571,  403, 1499],\n",
       "       ...,\n",
       "       [ 229, 2621,  571, ...,    0,  480, 1475],\n",
       "       [ 618, 3075,  403, ...,  480,    0, 1796],\n",
       "       [1249, 2661, 1499, ..., 1475, 1796,    0]])"
      ]
     },
     "execution_count": 44,
     "metadata": {},
     "output_type": "execute_result"
    }
   ],
   "source": [
    "distance_matrix = calc_distance_matrix(data)\n",
    "distance_matrix"
   ]
  },
  {
   "cell_type": "markdown",
   "metadata": {},
   "source": [
    "# GREEDY"
   ]
  },
  {
   "cell_type": "code",
   "execution_count": 45,
   "metadata": {},
   "outputs": [],
   "source": [
    "def greedy_algorithm(N, start_point):\n",
    "    \n",
    "    n = int(np.ceil(N / 2))\n",
    "    visited = np.array([start_point])\n",
    "    total_distance = 0\n",
    "    point = start_point\n",
    "    \n",
    "    for i in range(n-1):\n",
    "        sorted_distances = np.argsort(distance_matrix[point])[1:]\n",
    "        new_point = sorted_distances[~np.in1d(sorted_distances, visited)][0]\n",
    "\n",
    "        visited = np.append(visited, [new_point])\n",
    "        distance = distance_matrix[point, new_point]\n",
    "        total_distance += distance\n",
    "        point = new_point\n",
    "        \n",
    "        \n",
    "    visited = np.append(visited, [start_point])\n",
    "    total_distance += distance_matrix[point, start_point]\n",
    "    \n",
    "    return (total_distance, visited)"
   ]
  },
  {
   "cell_type": "code",
   "execution_count": 46,
   "metadata": {},
   "outputs": [],
   "source": [
    "N = 100\n",
    "\n",
    "MIN = 100000\n",
    "MAX = 0\n",
    "TAB_MAX = np.array([])\n",
    "TAB_MIN = np.array([])\n",
    "LAST = np.array([])\n",
    "last = 0\n",
    "SUM = 0\n",
    "\n",
    "for i in range(0, 100):\n",
    "    start_point = random.randint(0, 99) \n",
    "    \n",
    "    total_distance, visited = greedy_algorithm(N, start_point)\n",
    "    LAST = visited\n",
    "    last = total_distance\n",
    "    if total_distance > MAX:\n",
    "        MAX = total_distance\n",
    "        TAB_MAX = visited\n",
    "    if total_distance < MIN:\n",
    "        MIN = total_distance\n",
    "        TAB_MIN = visited\n",
    "    SUM += total_distance"
   ]
  },
  {
   "cell_type": "code",
   "execution_count": 47,
   "metadata": {},
   "outputs": [
    {
     "name": "stdout",
     "output_type": "stream",
     "text": [
      "10547\n",
      "15747\n",
      "[13 63 81 41  1 12 77 16 44 35 95 91 18 43 40 17 23 76 15 49 42 88 86 59\n",
      " 73 65  3 82  5 14 32 47 30 62 50 54 21 22 87 53 51 57 83  6 56 93 60 34\n",
      " 26 70 13]\n",
      "[64 78 80 46 36 71 19 79 37 85 48 29 74 68 25 99 55 61  4 66 39 38 69 52\n",
      " 72 84 92 10  2 27 90 96 98  7 28 31 58 75 97 11 70 26 60 34 93 56 33  6\n",
      " 83 57 64]\n",
      "13468.35\n"
     ]
    }
   ],
   "source": [
    "print(MIN)\n",
    "print(MAX)\n",
    "print(TAB_MAX)\n",
    "print(TAB_MIN)\n",
    "print(SUM/100)"
   ]
  },
  {
   "cell_type": "markdown",
   "metadata": {},
   "source": [
    "# Regret Heuristic"
   ]
  },
  {
   "cell_type": "code",
   "execution_count": 50,
   "metadata": {},
   "outputs": [],
   "source": [
    "def regret_heuristic(N, start_point):  \n",
    "    n = int(np.ceil(N / 2))\n",
    "    point = start_point\n",
    "    visited = np.array([point])\n",
    "    total_distance = 0\n",
    "    T = np.arange(100)\n",
    "    allowed = np.array(T)\n",
    "    \n",
    "    \n",
    "    \n",
    "    for i in range(1, n):\n",
    "        points_to_check = allowed[~np.in1d(allowed, visited)]\n",
    "        \n",
    "        \n",
    "        # wstawia każdy dostępny wierzchołek w każde miejsce istniejącej ścieżki\n",
    "        best_next_point = find_path_extension(visited, points_to_check)\n",
    "        # szuak minimum w tablicy position - pozycja na ścieżce idx to index punktu\n",
    "        position, point_idx = np.unravel_index(best_next_point.argmin(), best_next_point.shape)\n",
    "        \n",
    "\n",
    "        greedy_path=visited.copy()\n",
    "        greedy_position=position\n",
    "        greedy_point=points_to_check[point_idx]\n",
    "        greedy_path = np.insert(greedy_path, greedy_position, greedy_point)\n",
    "        \n",
    "        \n",
    "        path_extensions = find_path_extension(greedy_path, points_to_check)\n",
    "        path_extensions[:,point_idx]=0\n",
    "        a = path_extensions.min(axis=0)\n",
    "        b = best_next_point.min(axis=0)\n",
    "        regret= a -b\n",
    "\n",
    "        point_idx =regret.argmax()\n",
    "        position=np.argmin(best_next_point[:,point_idx])\n",
    "        visited = np.insert(visited, position, points_to_check[point_idx])\n",
    "        \n",
    "\n",
    "    return visited\n",
    "\n",
    "\n",
    "\n",
    "def find_path_extension(path, points):\n",
    "    ext = [[evaluate(path.copy(), point, position) for point in points] for position in range(len(path))]\n",
    "    return np.array(ext)\n",
    "\n",
    "\n",
    "def evaluate(path, point, position):\n",
    "    path = np.insert(path, position, point)\n",
    "    return path_length(path)\n",
    "\n",
    "\n",
    "def path_length(path):\n",
    "\tlength = 0\n",
    "\tfor i in range(len(path)-1):\n",
    "\t\tlength += distance_matrix[path[i], path[i+1]]\n",
    "\n",
    "\tlength += distance_matrix[path[-1], path[0]]\n",
    "\treturn length"
   ]
  },
  {
   "cell_type": "code",
   "execution_count": 51,
   "metadata": {},
   "outputs": [],
   "source": [
    "N = 100\n",
    "start_point = random.randint(0, 99) \n",
    "path = regret_heuristic(N, start_point)\n",
    "wynik = path_length(path)"
   ]
  },
  {
   "cell_type": "code",
   "execution_count": 52,
   "metadata": {},
   "outputs": [
    {
     "data": {
      "text/plain": [
       "17754"
      ]
     },
     "execution_count": 52,
     "metadata": {},
     "output_type": "execute_result"
    }
   ],
   "source": [
    "wynik"
   ]
  },
  {
   "cell_type": "code",
   "execution_count": 59,
   "metadata": {},
   "outputs": [
    {
     "name": "stdout",
     "output_type": "stream",
     "text": [
      "0\n",
      "1\n",
      "2\n",
      "3\n",
      "4\n",
      "5\n",
      "6\n",
      "7\n",
      "8\n",
      "9\n",
      "10\n",
      "11\n",
      "12\n",
      "13\n",
      "14\n",
      "15\n",
      "16\n",
      "17\n",
      "18\n",
      "19\n",
      "20\n",
      "21\n",
      "22\n",
      "23\n",
      "24\n",
      "25\n",
      "26\n",
      "27\n",
      "28\n",
      "29\n",
      "30\n",
      "31\n",
      "32\n",
      "33\n",
      "34\n",
      "35\n",
      "36\n",
      "37\n",
      "38\n",
      "39\n",
      "40\n",
      "41\n",
      "42\n",
      "43\n",
      "44\n",
      "45\n",
      "46\n",
      "47\n",
      "48\n",
      "49\n"
     ]
    }
   ],
   "source": [
    "MIN = 100000\n",
    "MAX = 0\n",
    "TAB_MAX = np.array([])\n",
    "TAB_MIN = np.array([])\n",
    "SUM = 0\n",
    "\n",
    "for i in range(0, 50):\n",
    "    print(i)\n",
    "    start_point = random.randint(0, 99) \n",
    "#     _, result = greedy_algorithm(N, start_point)\n",
    "    T = np.arange(100)\n",
    "    new_path = regret_heuristic(N, start_point)\n",
    "    new_path = np.append([start_point], new_path)\n",
    "    total_distance = path_length(new_path)\n",
    "    if total_distance > MAX:\n",
    "        MAX = total_distance\n",
    "        TAB_MAX = new_path\n",
    "    if total_distance < MIN:\n",
    "        MIN = total_distance\n",
    "        TAB_MIN = new_path\n",
    "    SUM += total_distance"
   ]
  },
  {
   "cell_type": "code",
   "execution_count": 61,
   "metadata": {},
   "outputs": [
    {
     "name": "stdout",
     "output_type": "stream",
     "text": [
      "16985\n",
      "20228\n",
      "[27  7 75 28 31  0 11 45 24  8 51  6 26 34 65  3  5 14 42 13 15  1 12 81\n",
      " 50 30 16 40 43 18 35 17 23 76 21 22 80 64 19 48 99 25 68  4  9 20  2 84\n",
      " 92 10 27]\n",
      "[15  1 35 18 16 12 30 13 32 14  5  3 65 34 26  6 33 24  8 11  0 31 28  7\n",
      " 27  2 10 84 72 69 38 66  4 39  9 20 37 19 79 29 25 55 80 46 36 22 21 54\n",
      " 23 17 15]\n",
      "18408.88\n"
     ]
    }
   ],
   "source": [
    "print(MIN)\n",
    "print(MAX)\n",
    "print(TAB_MAX)\n",
    "print(TAB_MIN)\n",
    "print(SUM/50)"
   ]
  },
  {
   "cell_type": "code",
   "execution_count": 32,
   "metadata": {},
   "outputs": [
    {
     "name": "stdout",
     "output_type": "stream",
     "text": [
      "15528\n",
      "20423\n",
      "[ 7  0  5 46 27 86 24 84 72  1 94 12 32  4 38 51 13 40  2 42 82  8  6 19\n",
      " 11 26 34 76 22 90 44 10 14 16 20  9 98 23 17 93 78 52 15 21 69 25  3 18\n",
      " 30 53 53]\n",
      "[34 26 11  6  8 33 28  2 42 70 13 29 77  4 32 12 94  1 80 24 66 27  0  5\n",
      " 48 18 74  7 41 30 96  3 25 69 21 15 93 17 23  9 20 10 16 14 31 90 97 22\n",
      " 59 19 19 76 34 34]\n",
      "18245.4\n"
     ]
    }
   ],
   "source": [
    "print(MIN)\n",
    "print(MAX)\n",
    "print(TAB_MAX)\n",
    "TAB_MIN = np.append(TAB_MIN, 34)\n",
    "print(TAB_MIN)\n",
    "print(SUM/30)"
   ]
  },
  {
   "cell_type": "code",
   "execution_count": 36,
   "metadata": {},
   "outputs": [],
   "source": [
    "new_path = [34, 26, 11,  6,  8, 33, 28,  2, 42, 70, 13, 29, 77,  4, 32, 12, 94,  1, 80, 24, 66, 27,  0,  5,\n",
    " 48, 18, 74,  7, 41, 30, 96,  3, 25, 69, 21, 15, 93, 17, 23,  9, 20, 10, 16, 14, 31, 90, 97, 22,\n",
    " 59, 19, 34]"
   ]
  },
  {
   "cell_type": "markdown",
   "metadata": {},
   "source": [
    "# Wykres"
   ]
  },
  {
   "cell_type": "code",
   "execution_count": 57,
   "metadata": {},
   "outputs": [],
   "source": [
    "def print_plot(data, points):\n",
    "    f = plt.figure()\n",
    "    plt.plot(data[:, 0], data[:, 1], \"o\", linewidth=0, alpha=0.4)\n",
    "    plt.plot(data[points, 0], data[points, 1], \"o\", color='tab:blue',  linewidth=0, alpha=0.6)\n",
    "    plt.plot(data[points, 0], data[points, 1], \"--\", color=\"tab:cyan\", linewidth=1, alpha=2)\n",
    "    plt.xlabel(\"x\")\n",
    "    plt.ylabel(\"y\")\n",
    "    plt.title(\"Regret heuristic - kroB100\")\n",
    "    plt.grid(False)\n",
    "    \n",
    "    plt.show()\n",
    "    f.savefig('regretB.pdf', bbox_inches='tight')"
   ]
  },
  {
   "cell_type": "code",
   "execution_count": 62,
   "metadata": {},
   "outputs": [
    {
     "data": {
      "image/png": "[encoded data removed]",
      "text/plain": [
       "<Figure size 432x288 with 1 Axes>"
      ]
     },
     "metadata": {
      "needs_background": "light"
     },
     "output_type": "display_data"
    }
   ],
   "source": [
    "print_plot(data, TAB_MIN)"
   ]
  },
  {
   "cell_type": "code",
   "execution_count": 97,
   "metadata": {},
   "outputs": [
    {
     "data": {
      "image/png": "[encoded data removed]",
      "text/plain": [
       "<Figure size 432x288 with 1 Axes>"
      ]
     },
     "metadata": {
      "needs_background": "light"
     },
     "output_type": "display_data"
    }
   ],
   "source": [
    "\n",
    "print_plot(data, TAB_MAX)"
   ]
  },
  {
   "cell_type": "code",
   "execution_count": 30,
   "metadata": {},
   "outputs": [
    {
     "name": "stdout",
     "output_type": "stream",
     "text": [
      "[69 21 15 87 93 17 23 37 35 98 83  9 71 20 73 58 16 14 10 31 90 97 22 44\n",
      " 46 62  5 48 89 78 52 18 74 96 55 79 30 88 41  7 91  0 92 27 66 57 60 24\n",
      " 80 68 69]\n"
     ]
    },
    {
     "data": {
      "image/png": "[encoded data removed]",
      "text/plain": [
       "<Figure size 432x288 with 1 Axes>"
      ]
     },
     "metadata": {
      "needs_background": "light"
     },
     "output_type": "display_data"
    }
   ],
   "source": [
    "print(visited)\n",
    "print_plot(data, visited)"
   ]
  },
  {
   "cell_type": "code",
   "execution_count": null,
   "metadata": {},
   "outputs": [],
   "source": []
  }
 ],
 "metadata": {
  "kernelspec": {
   "display_name": "Python 3",
   "language": "python",
   "name": "python3"
  },
  "language_info": {
   "codemirror_mode": {
    "name": "ipython",
    "version": 3
   },
   "file_extension": ".py",
   "mimetype": "text/x-python",
   "name": "python",
   "nbconvert_exporter": "python",
   "pygments_lexer": "ipython3",
   "version": "3.8.2"
  }
 },
 "nbformat": 4,
 "nbformat_minor": 4
}

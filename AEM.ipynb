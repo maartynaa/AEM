{
 "cells": [
  {
   "cell_type": "code",
   "execution_count": 2,
   "metadata": {},
   "outputs": [],
   "source": [
    "#pytania: czy odległość ma być liczbą całkowitą, czy mamy zaczynać od któregoś konkretnego wierzchołka "
   ]
  },
  {
   "cell_type": "code",
   "execution_count": 1,
   "metadata": {},
   "outputs": [],
   "source": [
    "import numpy as np\n",
    "from scipy.spatial import distance_matrix\n",
    "import matplotlib.pyplot as plt"
   ]
  },
  {
   "cell_type": "markdown",
   "metadata": {},
   "source": [
    "# Load instance"
   ]
  },
  {
   "cell_type": "code",
   "execution_count": 2,
   "metadata": {},
   "outputs": [],
   "source": [
    "instance_number = 0  # 0 - \"kroA100.tsp\"    1 - \"kroB100.tsp\"\n",
    "instances_names = [\"kroA100.tsp\",\"kroB100.tsp\"]\n",
    "data = np.genfromtxt(f'instances/{instances_names[instance_number]}', skip_header=6, skip_footer=1, dtype='int64')[:,1:]"
   ]
  },
  {
   "cell_type": "markdown",
   "metadata": {},
   "source": [
    "# Calculating distance matrix"
   ]
  },
  {
   "cell_type": "code",
   "execution_count": 3,
   "metadata": {},
   "outputs": [],
   "source": [
    "def calc_distance_matrix(data):\n",
    "    dist_matrix = distance_matrix(data, data)\n",
    "    dist_matrix = np.around(dist_matrix, decimals=0)\n",
    "    dist_matrix = dist_matrix.astype(int)\n",
    "    return dist_matrix"
   ]
  },
  {
   "cell_type": "code",
   "execution_count": 4,
   "metadata": {},
   "outputs": [
    {
     "data": {
      "text/plain": [
       "array([[   0, 1693, 2252, ...,  783, 1468, 2643],\n",
       "       [1693,    0, 1708, ..., 1911, 3156, 1831],\n",
       "       [2252, 1708,    0, ..., 1786, 3315,  454],\n",
       "       ...,\n",
       "       [ 783, 1911, 1786, ...,    0, 1535, 2228],\n",
       "       [1468, 3156, 3315, ..., 1535,    0, 3760],\n",
       "       [2643, 1831,  454, ..., 2228, 3760,    0]])"
      ]
     },
     "execution_count": 4,
     "metadata": {},
     "output_type": "execute_result"
    }
   ],
   "source": [
    "distance_matrix = calc_distance_matrix(data)\n",
    "distance_matrix"
   ]
  },
  {
   "cell_type": "markdown",
   "metadata": {},
   "source": [
    "# GREEDY"
   ]
  },
  {
   "cell_type": "code",
   "execution_count": 84,
   "metadata": {},
   "outputs": [],
   "source": [
    "def greedy_algorithm(N, start_point):\n",
    "    \n",
    "    n = int(np.ceil(N / 2))\n",
    "    visited = np.array([start_point])\n",
    "    total_distance = 0\n",
    "    point = start_point\n",
    "    \n",
    "    for i in range(n-1):\n",
    "        sorted_distances = np.argsort(distance_matrix[point])[1:]\n",
    "        new_point = sorted_distances[~np.in1d(sorted_distances, visited)][0]\n",
    "\n",
    "        visited = np.append(visited, [new_point])\n",
    "        distance = distance_matrix[point, new_point]\n",
    "        total_distance += distance\n",
    "        point = new_point\n",
    "        \n",
    "        \n",
    "    visited = np.append(visited, [start_point])\n",
    "    total_distance += distance_matrix[point, start_point]\n",
    "    \n",
    "    return (total_distance, visited)"
   ]
  },
  {
   "cell_type": "code",
   "execution_count": 85,
   "metadata": {},
   "outputs": [],
   "source": [
    "N = 100\n",
    "start_point = 0\n",
    "\n",
    "total_distance, visited = greedy_algorithm(N, start_point)"
   ]
  },
  {
   "cell_type": "code",
   "execution_count": 86,
   "metadata": {},
   "outputs": [
    {
     "name": "stdout",
     "output_type": "stream",
     "text": [
      "14094\n",
      "[ 0 62  5 48 89  9 83 71 20 73 58 16 14 10 31 90 97 22 44 46 92 27 66 57\n",
      " 60 24 80 68 72 49 43  1 53 39 63 67 84 38 29 95 77 51  4 36 32 75 12 94\n",
      " 81 47  0]\n"
     ]
    }
   ],
   "source": [
    "print(total_distance)\n",
    "print(visited)"
   ]
  },
  {
   "cell_type": "code",
   "execution_count": null,
   "metadata": {},
   "outputs": [],
   "source": []
  }
 ],
 "metadata": {
  "kernelspec": {
   "display_name": "Python 3",
   "language": "python",
   "name": "python3"
  },
  "language_info": {
   "codemirror_mode": {
    "name": "ipython",
    "version": 3
   },
   "file_extension": ".py",
   "mimetype": "text/x-python",
   "name": "python",
   "nbconvert_exporter": "python",
   "pygments_lexer": "ipython3",
   "version": "3.8.2"
  }
 },
 "nbformat": 4,
 "nbformat_minor": 4
}

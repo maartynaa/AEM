{
  "nbformat": 4,
  "nbformat_minor": 0,
  "metadata": {
    "kernelspec": {
      "display_name": "Python 3",
      "language": "python",
      "name": "python3"
    },
    "language_info": {
      "codemirror_mode": {
        "name": "ipython",
        "version": 3
      },
      "file_extension": ".py",
      "mimetype": "text/x-python",
      "name": "python",
      "nbconvert_exporter": "python",
      "pygments_lexer": "ipython3",
      "version": "3.7.6"
    },
    "colab": {
      "name": "AEM4.ipynb",
      "provenance": [],
      "toc_visible": true
    }
  },
  "cells": [
    {
      "cell_type": "code",
      "metadata": {
        "id": "8To6qZSv_uE3",
        "colab_type": "code",
        "colab": {}
      },
      "source": [
        "import numpy as np\n",
        "from scipy.spatial import distance_matrix\n",
        "import matplotlib.pyplot as plt\n",
        "import random\n",
        "import itertools\n",
        "import time\n",
        "from random import randint\n",
        "import tqdm"
      ],
      "execution_count": 0,
      "outputs": []
    },
    {
      "cell_type": "markdown",
      "metadata": {
        "id": "jNEPyt2M_uE-",
        "colab_type": "text"
      },
      "source": [
        "# Load instance"
      ]
    },
    {
      "cell_type": "code",
      "metadata": {
        "id": "pgIj1HRE_uE_",
        "colab_type": "code",
        "colab": {}
      },
      "source": [
        "instance_number = 0  # 0 - \"kroA200.tsp\"    1 - \"kroB200.tsp\"\n",
        "instances_names = [\"kroA200.tsp\",\"kroB200.tsp\"]\n",
        "data = np.genfromtxt(f'{instances_names[instance_number]}', skip_header=6, skip_footer=1, dtype='int64')[:,1:]"
      ],
      "execution_count": 0,
      "outputs": []
    },
    {
      "cell_type": "markdown",
      "metadata": {
        "id": "nP9mM_30_uFF",
        "colab_type": "text"
      },
      "source": [
        "# Calculating distance matrix"
      ]
    },
    {
      "cell_type": "code",
      "metadata": {
        "id": "8L4rMC-Y_uFF",
        "colab_type": "code",
        "colab": {}
      },
      "source": [
        "def calc_distance_matrix(data):\n",
        "    dist_matrix = distance_matrix(data, data)\n",
        "    dist_matrix = np.around(dist_matrix, decimals=0)\n",
        "    dist_matrix = dist_matrix.astype(int)\n",
        "    return dist_matrix"
      ],
      "execution_count": 0,
      "outputs": []
    },
    {
      "cell_type": "code",
      "metadata": {
        "id": "mpWUxwhi_uFI",
        "colab_type": "code",
        "outputId": "bebb6d69-05aa-4e87-83c9-d2cc25c276cf",
        "colab": {
          "base_uri": "https://localhost:8080/",
          "height": 136
        }
      },
      "source": [
        "distance_matrix = calc_distance_matrix(data)\n",
        "distance_matrix"
      ],
      "execution_count": 0,
      "outputs": [
        {
          "output_type": "execute_result",
          "data": {
            "text/plain": [
              "array([[   0, 1700, 1846, ...,  452, 1163, 2616],\n",
              "       [1700,    0, 1118, ..., 1250, 2651, 1504],\n",
              "       [1846, 1118,    0, ..., 1536, 2320, 2615],\n",
              "       ...,\n",
              "       [ 452, 1250, 1536, ...,    0, 1535, 2228],\n",
              "       [1163, 2651, 2320, ..., 1535,    0, 3760],\n",
              "       [2616, 1504, 2615, ..., 2228, 3760,    0]])"
            ]
          },
          "metadata": {
            "tags": []
          },
          "execution_count": 4
        }
      ]
    },
    {
      "cell_type": "markdown",
      "metadata": {
        "id": "NElTX1dJ_uFM",
        "colab_type": "text"
      },
      "source": [
        "# ILS2"
      ]
    },
    {
      "cell_type": "code",
      "metadata": {
        "id": "Bh2iv4wx_uFN",
        "colab_type": "code",
        "colab": {}
      },
      "source": [
        "def random_path(length, dataset_size):\n",
        "    points = np.arange(dataset_size)\n",
        "    np.random.shuffle(points)\n",
        "    path, outside = points[:length], points[length:]\n",
        "    return path, outside"
      ],
      "execution_count": 0,
      "outputs": []
    },
    {
      "cell_type": "code",
      "metadata": {
        "id": "H9EMUCKP_uFP",
        "colab_type": "code",
        "colab": {}
      },
      "source": [
        "def path_length(path):\n",
        "\tlength = 0\n",
        "\tfor i in range(len(path)-1):\n",
        "\t\tlength += distance_matrix[path[i], path[i+1]]\n",
        "\n",
        "\tlength += distance_matrix[path[-1], path[0]]\n",
        "\treturn length"
      ],
      "execution_count": 0,
      "outputs": []
    },
    {
      "cell_type": "code",
      "metadata": {
        "id": "z_Wf80_j_uFT",
        "colab_type": "code",
        "colab": {}
      },
      "source": [
        "def delta_change_outside(size, x, out, index, distance_matrix):\n",
        "    i = index[0]\n",
        "    j = index[1]\n",
        "\n",
        "    old = distance_matrix[x[(i-1)%size], x[i]] + distance_matrix[x[i], x[(i+1)%size]]\n",
        "    new = distance_matrix[x[(i-1)%size], out[j]] + distance_matrix[out[j], x[(i+1)%size]]\n",
        "       \n",
        "    return old - new"
      ],
      "execution_count": 0,
      "outputs": []
    },
    {
      "cell_type": "code",
      "metadata": {
        "id": "7BZpgsDX_uFY",
        "colab_type": "code",
        "colab": {}
      },
      "source": [
        "def delta_change_inside_edges(size, x, index, distance_matrix):\n",
        "    i = index[0]\n",
        "    j = index[1]\n",
        "    \n",
        "    old = distance_matrix[x[(i-1)%size], x[i]] + distance_matrix[x[j], x[(j+1)%size]]\n",
        "    new = distance_matrix[x[(i-1)%size], x[j]] + distance_matrix[x[i], x[(j+1)%size]]\n",
        "    \n",
        "    return old - new"
      ],
      "execution_count": 0,
      "outputs": []
    },
    {
      "cell_type": "code",
      "metadata": {
        "id": "z_-EevCG_uFb",
        "colab_type": "code",
        "colab": {}
      },
      "source": [
        "def swap_vertices_outside(x):\n",
        "    idx = []\n",
        "    for i in range(len(x)):\n",
        "        for j in range(len(x)):\n",
        "            idx.append([i, j])\n",
        "        \n",
        "    idx = np.array(idx)\n",
        "    return idx"
      ],
      "execution_count": 0,
      "outputs": []
    },
    {
      "cell_type": "code",
      "metadata": {
        "id": "T--2qdRD_uFd",
        "colab_type": "code",
        "colab": {}
      },
      "source": [
        "def swap_edges(x):\n",
        "    combinations = itertools.combinations(np.arange(len(x)), 2)\n",
        "    return np.array([[v1,v2] for v1, v2 in combinations if 1 < v2 - v1 < len(x) - 1 ], 'int')"
      ],
      "execution_count": 0,
      "outputs": []
    },
    {
      "cell_type": "code",
      "metadata": {
        "id": "aRYFvdW9_uFf",
        "colab_type": "code",
        "colab": {}
      },
      "source": [
        "def destroy(x, size):\n",
        "    path = path_length(x)\n",
        "    average = path/size\n",
        "    start = randint(0, size-21)\n",
        "    for i in range(start, len(x)-21, 2):\n",
        "        distance = 0\n",
        "        for j in range(20):\n",
        "            distance += distance_matrix[x[i+j]][x[i+j+1]]\n",
        "        if distance/20 > average:\n",
        "            return i\n",
        "        \n",
        "    return randint(0, size-21)"
      ],
      "execution_count": 0,
      "outputs": []
    },
    {
      "cell_type": "code",
      "metadata": {
        "id": "XGc6PLf7_uFq",
        "colab_type": "code",
        "colab": {}
      },
      "source": [
        "def repair(x, out, idx):\n",
        "    for i in range(20):\n",
        "        nn = nearest_neigh(x[idx+i], out)\n",
        "        x[idx+i+1] = nn\n",
        "        out = np.setdiff1d(out, [nn])\n",
        "    return x"
      ],
      "execution_count": 0,
      "outputs": []
    },
    {
      "cell_type": "code",
      "metadata": {
        "id": "-2xhQr9f_uFt",
        "colab_type": "code",
        "colab": {}
      },
      "source": [
        "def nearest_neigh(point, out):\n",
        "    near = []\n",
        "    i = 0\n",
        "    sorted_distances = np.argsort(distance_matrix[point])[1:]\n",
        "    for elem in sorted_distances:\n",
        "        if elem in out and i < 3:\n",
        "          near.append(elem)\n",
        "          i += 1\n",
        "    idx = randint(0, 2)\n",
        "    return near[idx]"
      ],
      "execution_count": 0,
      "outputs": []
    },
    {
      "cell_type": "code",
      "metadata": {
        "id": "3I4MeDhY_uFl",
        "colab_type": "code",
        "colab": {}
      },
      "source": [
        "def steepest_edge(size, start, out):\n",
        "    x = start\n",
        "    N_in = swap_edges(x)\n",
        "    N_out = swap_vertices_outside(x)\n",
        "    while True:\n",
        "        max_diff_o = 0\n",
        "        idx_o = 0\n",
        "        for id in range(len(N_out)):\n",
        "            idx = N_out[id]\n",
        "            diff = delta_change_outside(size, x, out, idx, distance_matrix)\n",
        "            if diff > max_diff_o:\n",
        "                max_diff_o = diff\n",
        "                idx_o = idx\n",
        "        max_diff_i = 0\n",
        "        idx_i = 0\n",
        "        for id in range(len(N_in)):\n",
        "            idx = N_in[id]\n",
        "            diff = delta_change_inside_edges(size, x, idx, distance_matrix)\n",
        "            if diff > max_diff_i:\n",
        "                max_diff_i = diff\n",
        "                idx_i = idx\n",
        "                \n",
        "        if (max_diff_i > 0) or (max_diff_o > 0):        \n",
        "            # ruch zmieniający zbiór wierzchołków \n",
        "            if max_diff_o > max_diff_i:\n",
        "                ver1 = x[idx_o[0]]\n",
        "                ver2 = out[idx_o[1]]\n",
        "                x[idx_o[0]] = ver2\n",
        "                out[idx_o[1]] = ver1                \n",
        "                N_in = swap_edges(x)\n",
        "                N_out = swap_vertices_outside(x)\n",
        "\n",
        "            #ruch wewnątrztrasowy zamiana krawędzi\n",
        "            else:\n",
        "                a = x[idx_i[0]:idx_i[1]+1]\n",
        "                a = np.flip(a)\n",
        "                x[idx_i[0]:idx_i[1]+1] = a\n",
        "                N_in = swap_edges(x)\n",
        "                N_out = swap_vertices_outside(x)\n",
        "        else:\n",
        "            break\n",
        "            \n",
        "    return x"
      ],
      "execution_count": 0,
      "outputs": []
    },
    {
      "cell_type": "code",
      "metadata": {
        "id": "vK9LRuUnSKCY",
        "colab_type": "code",
        "colab": {}
      },
      "source": [
        "def return_out(x):\n",
        "  out = np.arange(200)\n",
        "  out = np.setdiff1d(out, x)\n",
        "  return out"
      ],
      "execution_count": 0,
      "outputs": []
    },
    {
      "cell_type": "code",
      "metadata": {
        "id": "sGMYBG6XBS4b",
        "colab_type": "code",
        "colab": {}
      },
      "source": [
        "def ILS2(size, x, out):\n",
        "  x = steepest_edge(100, x, out)\n",
        "  start_time = time.time()\n",
        "  iteration = 0 \n",
        "  while time.time() - start_time < 1050:\n",
        "    out = return_out(x)\n",
        "    idx = destroy(x, 100)\n",
        "    path = np.copy(x)\n",
        "    permutation = repair(path, out, idx)\n",
        "    out = return_out(permutation)\n",
        "    new_x = steepest_edge(100, permutation, out)\n",
        "    iteration += 1\n",
        "    if path_length(x) > path_length(new_x):\n",
        "      x = new_x\n",
        "\n",
        "  return x, iteration"
      ],
      "execution_count": 0,
      "outputs": []
    },
    {
      "cell_type": "code",
      "metadata": {
        "id": "TJaXmZ0G_uGD",
        "colab_type": "code",
        "outputId": "9ca60111-0249-48a0-b07b-643540161766",
        "colab": {
          "base_uri": "https://localhost:8080/",
          "height": 187
        }
      },
      "source": [
        "MIN = 1000000\n",
        "MAX = 0\n",
        "SUM = 0\n",
        "T_MIN = 1000000\n",
        "T_MAX = 0\n",
        "T_SUM = 0\n",
        "max_iter = 0\n",
        "min_iter = 100000\n",
        "sum_iter = 0\n",
        "for i in range(10):\n",
        "  print(i)\n",
        "  x, out = random_path(100, 200)\n",
        "  start_time = time.time()\n",
        "  x, iteration = ILS2(100, x, out)\n",
        "  t = time.time() - start_time\n",
        "  len_x = path_length(x)\n",
        "    \n",
        "  if len_x > MAX:\n",
        "        MAX = len_x\n",
        "  if len_x < MIN:\n",
        "        MIN = len_x\n",
        "        T = x\n",
        "  SUM += len_x\n",
        "    \n",
        "  if t > T_MAX:\n",
        "        T_MAX = t\n",
        "  if t < T_MIN:\n",
        "        T_MIN = t\n",
        "  T_SUM += t\n",
        "\n",
        "  if iteration > max_iter:\n",
        "        max_iter = iteration\n",
        "  if iteration < min_iter:\n",
        "        min_iter = iteration\n",
        "  sum_iter += iteration\n"
      ],
      "execution_count": 0,
      "outputs": [
        {
          "output_type": "stream",
          "text": [
            "0\n",
            "1\n",
            "2\n",
            "3\n",
            "4\n",
            "5\n",
            "6\n",
            "7\n",
            "8\n",
            "9\n"
          ],
          "name": "stdout"
        }
      ]
    },
    {
      "cell_type": "code",
      "metadata": {
        "id": "zKS8Fodpwemj",
        "colab_type": "code",
        "outputId": "f94621ed-e6ad-4b14-bd36-dffae8db89e9",
        "colab": {
          "base_uri": "https://localhost:8080/",
          "height": 68
        }
      },
      "source": [
        "print(min_iter)\n",
        "print(sum_iter/10)\n",
        "print(max_iter)"
      ],
      "execution_count": 0,
      "outputs": [
        {
          "output_type": "stream",
          "text": [
            "572\n",
            "601.9\n",
            "659\n"
          ],
          "name": "stdout"
        }
      ]
    },
    {
      "cell_type": "code",
      "metadata": {
        "id": "8AVMB4ailmzy",
        "colab_type": "code",
        "outputId": "70ef00e9-2019-4689-9f55-0563b780b297",
        "colab": {
          "base_uri": "https://localhost:8080/",
          "height": 68
        }
      },
      "source": [
        "print(MIN)\n",
        "print(MAX)\n",
        "print(SUM/10)"
      ],
      "execution_count": 0,
      "outputs": [
        {
          "output_type": "stream",
          "text": [
            "13942\n",
            "14609\n",
            "14241.9\n"
          ],
          "name": "stdout"
        }
      ]
    },
    {
      "cell_type": "code",
      "metadata": {
        "id": "oIX_ehClDJmG",
        "colab_type": "code",
        "outputId": "2200adcf-7b28-4744-d025-eb9659d92ef0",
        "colab": {
          "base_uri": "https://localhost:8080/",
          "height": 68
        }
      },
      "source": [
        "#time\n",
        "print(T_MIN)\n",
        "print(T_MAX)\n",
        "print(T_SUM/10)"
      ],
      "execution_count": 0,
      "outputs": [
        {
          "output_type": "stream",
          "text": [
            "1012.0600700378418\n",
            "1014.8806157112122\n",
            "1013.1098821163177\n"
          ],
          "name": "stdout"
        }
      ]
    },
    {
      "cell_type": "code",
      "metadata": {
        "id": "b2fDFHPuDKy2",
        "colab_type": "code",
        "colab": {}
      },
      "source": [
        "def print_plot(data, points):\n",
        "    f = plt.figure()\n",
        "    plt.plot(data[:, 0], data[:, 1], \"o\", linewidth=0, alpha=0.4)\n",
        "    plt.plot(data[points, 0], data[points, 1], \"o\", color='tab:blue',  linewidth=0, alpha=0.6)\n",
        "    plt.plot(data[points, 0], data[points, 1], \"--\", color=\"tab:cyan\", linewidth=1, alpha=2)\n",
        "    plt.xlabel(\"x\")\n",
        "    plt.ylabel(\"y\")\n",
        "    plt.title(\"ILS2 - kroB200\")\n",
        "    plt.grid(False)\n",
        "    \n",
        "    plt.show()\n",
        "    f.savefig('ILS2B.pdf', bbox_inches='tight')"
      ],
      "execution_count": 0,
      "outputs": []
    },
    {
      "cell_type": "code",
      "metadata": {
        "id": "FTu5T1CeDOX_",
        "colab_type": "code",
        "outputId": "76d5841b-0ddc-4b84-a7a8-56e9cb519bc8",
        "colab": {
          "base_uri": "https://localhost:8080/",
          "height": 153
        }
      },
      "source": [
        "T = np.append(T, T[0])\n",
        "T"
      ],
      "execution_count": 0,
      "outputs": [
        {
          "output_type": "execute_result",
          "data": {
            "text/plain": [
              "array([ 56,  93, 179, 175,  26,  60,  34, 171, 156, 177, 130, 198, 144,\n",
              "        65, 132, 167, 113, 164,  73,  59, 185, 195,  51,  53, 162, 153,\n",
              "       190, 114,  71,  36, 183, 140,  64, 123, 126, 187,  78, 178, 112,\n",
              "        99,  55, 100, 149,  25,  61, 131,   4, 193, 116,  39,  38, 197,\n",
              "        69, 148, 169,  52,  72,  84, 121,  92,  10, 157,  27, 128,  90,\n",
              "        98,  28,   7, 135,  58, 174, 166,  31, 106,  70, 160,  11, 173,\n",
              "         0,  94,  89,  20, 107, 165, 137,  85,  48, 133, 180,  29,  74,\n",
              "        79,  19,  37, 145,  45,  24,  33,  83,   6,  56,  56])"
            ]
          },
          "metadata": {
            "tags": []
          },
          "execution_count": 25
        }
      ]
    },
    {
      "cell_type": "code",
      "metadata": {
        "id": "gYE6da9cPCYU",
        "colab_type": "code",
        "outputId": "96978537-2a8f-409c-8f9e-78545088111e",
        "colab": {
          "base_uri": "https://localhost:8080/",
          "height": 34
        }
      },
      "source": [
        "len(np.unique(T))"
      ],
      "execution_count": 0,
      "outputs": [
        {
          "output_type": "execute_result",
          "data": {
            "text/plain": [
              "100"
            ]
          },
          "metadata": {
            "tags": []
          },
          "execution_count": 26
        }
      ]
    },
    {
      "cell_type": "code",
      "metadata": {
        "id": "DU8tVvM4DQYP",
        "colab_type": "code",
        "outputId": "baa36d2a-900f-4d48-98cb-f1e7a8bc9c2d",
        "colab": {
          "base_uri": "https://localhost:8080/",
          "height": 295
        }
      },
      "source": [
        "print_plot(data, T)"
      ],
      "execution_count": 0,
      "outputs": [
        {
          "output_type": "display_data",
          "data": {
            "image/png": "[encoded data removed]",
            "text/plain": [
              "<Figure size 432x288 with 1 Axes>"
            ]
          },
          "metadata": {
            "tags": [],
            "needs_background": "light"
          }
        }
      ]
    },
    {
      "cell_type": "code",
      "metadata": {
        "id": "ssw_UA1UOwQb",
        "colab_type": "code",
        "colab": {}
      },
      "source": [
        ""
      ],
      "execution_count": 0,
      "outputs": []
    }
  ]
}
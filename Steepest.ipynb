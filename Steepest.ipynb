{
 "cells": [
  {
   "cell_type": "code",
   "execution_count": 1,
   "metadata": {},
   "outputs": [],
   "source": [
    "import numpy as np\n",
    "from scipy.spatial import distance_matrix\n",
    "import matplotlib.pyplot as plt\n",
    "import random\n",
    "import itertools"
   ]
  },
  {
   "cell_type": "markdown",
   "metadata": {},
   "source": [
    "# Load instance"
   ]
  },
  {
   "cell_type": "code",
   "execution_count": 2,
   "metadata": {},
   "outputs": [],
   "source": [
    "instance_number = 0  # 0 - \"kroA100.tsp\"    1 - \"kroB100.tsp\"\n",
    "instances_names = [\"kroA100.tsp\",\"kroB100.tsp\"]\n",
    "data = np.genfromtxt(f'instances/{instances_names[instance_number]}', skip_header=6, skip_footer=1, dtype='int64')[:,1:]"
   ]
  },
  {
   "cell_type": "markdown",
   "metadata": {},
   "source": [
    "# Calculating distance matrix"
   ]
  },
  {
   "cell_type": "code",
   "execution_count": 3,
   "metadata": {},
   "outputs": [],
   "source": [
    "def calc_distance_matrix(data):\n",
    "    dist_matrix = distance_matrix(data, data)\n",
    "    dist_matrix = np.around(dist_matrix, decimals=0)\n",
    "    dist_matrix = dist_matrix.astype(int)\n",
    "    return dist_matrix"
   ]
  },
  {
   "cell_type": "code",
   "execution_count": 4,
   "metadata": {},
   "outputs": [
    {
     "data": {
      "text/plain": [
       "array([[   0, 1693, 2252, ...,  783, 1468, 2643],\n",
       "       [1693,    0, 1708, ..., 1911, 3156, 1831],\n",
       "       [2252, 1708,    0, ..., 1786, 3315,  454],\n",
       "       ...,\n",
       "       [ 783, 1911, 1786, ...,    0, 1535, 2228],\n",
       "       [1468, 3156, 3315, ..., 1535,    0, 3760],\n",
       "       [2643, 1831,  454, ..., 2228, 3760,    0]])"
      ]
     },
     "execution_count": 4,
     "metadata": {},
     "output_type": "execute_result"
    }
   ],
   "source": [
    "distance_matrix = calc_distance_matrix(data)\n",
    "distance_matrix"
   ]
  },
  {
   "cell_type": "markdown",
   "metadata": {},
   "source": [
    "# GREEDY"
   ]
  },
  {
   "cell_type": "code",
   "execution_count": 5,
   "metadata": {},
   "outputs": [],
   "source": [
    "def random_path(length, dataset_size):\n",
    "    points = np.arange(dataset_size)\n",
    "    np.random.shuffle(points)\n",
    "    path, outside = points[:length], points[length:]\n",
    "    return path, outside"
   ]
  },
  {
   "cell_type": "code",
   "execution_count": 6,
   "metadata": {},
   "outputs": [],
   "source": [
    "def path_length(path):\n",
    "\tlength = 0\n",
    "\tfor i in range(len(path)-1):\n",
    "\t\tlength += distance_matrix[path[i], path[i+1]]\n",
    "\n",
    "\tlength += distance_matrix[path[-1], path[0]]\n",
    "\treturn length"
   ]
  },
  {
   "cell_type": "code",
   "execution_count": 7,
   "metadata": {},
   "outputs": [],
   "source": [
    "def delta_change_outside(x, out, index, distance_matrix):\n",
    "    i = index[0]\n",
    "    j = index[1]\n",
    "    \n",
    "    old = distance_matrix[x[(i-1)%50], x[i]] + distance_matrix[x[i], x[(i+1)%50]]\n",
    "    new = distance_matrix[x[(i-1)%50], out[j]] + distance_matrix[out[j], x[(i+1)%50]]\n",
    "       \n",
    "    return old - new"
   ]
  },
  {
   "cell_type": "code",
   "execution_count": 8,
   "metadata": {},
   "outputs": [],
   "source": [
    "def delta_change_inside_vertices(x, index, distance_matrix):\n",
    "    i = index[0]\n",
    "    j = index[1]\n",
    "    if j-i == 1:\n",
    "        old = distance_matrix[x[(i-1)%50], x[i]] + distance_matrix[x[i], x[j]] + distance_matrix[x[j], x[(j+1)%50]]\n",
    "        new = distance_matrix[x[(i-1)%50], x[j]] + distance_matrix[x[j], x[i]] + distance_matrix[x[i], x[(j+1)%50]]\n",
    "    elif j-i == 49:\n",
    "        old = distance_matrix[x[(j-1)%50], x[j]] + distance_matrix[x[j], x[i]] + distance_matrix[x[i], x[(i+1)%50]]\n",
    "        new = distance_matrix[x[(j-1)%50], x[i]] + distance_matrix[x[i], x[j]] + distance_matrix[x[j], x[(i+1)%50]]\n",
    "    else:\n",
    "        old = distance_matrix[x[(i-1)%50], x[i]] + distance_matrix[x[i], x[(i+1)%50]] + distance_matrix[x[(j-1)%50], x[j]] + distance_matrix[x[j], x[(j+1)%50]]\n",
    "        new = distance_matrix[x[(i-1)%50], x[j]] + distance_matrix[x[j], x[(i+1)%50]] + distance_matrix[x[(j-1)%50], x[i]] + distance_matrix[x[i], x[(j+1)%50]]\n",
    "    \n",
    "    return old - new"
   ]
  },
  {
   "cell_type": "code",
   "execution_count": 9,
   "metadata": {},
   "outputs": [],
   "source": [
    "def delta_change_inside_edges(x, index, distance_matrix):\n",
    "    i = index[0]\n",
    "    j = index[1]\n",
    "    \n",
    "    old = distance_matrix[x[(i-1)%50], x[i]] + distance_matrix[x[j], x[(j+1)%50]]\n",
    "    new = distance_matrix[x[(i-1)%50], x[j]] + distance_matrix[x[i], x[(j+1)%50]]\n",
    "    \n",
    "    return old - new"
   ]
  },
  {
   "cell_type": "code",
   "execution_count": 10,
   "metadata": {},
   "outputs": [],
   "source": [
    "def swap_vertices_inside(x):\n",
    "    idx = []\n",
    "    for i in range(len(x)):\n",
    "        for j in range(i+1, len(x)):\n",
    "            idx.append([i, j])\n",
    "        \n",
    "    idx = np.array(idx)\n",
    "    return idx"
   ]
  },
  {
   "cell_type": "code",
   "execution_count": 11,
   "metadata": {},
   "outputs": [],
   "source": [
    "def swap_vertices_outside(x):\n",
    "    idx = []\n",
    "    for i in range(len(x)):\n",
    "        for j in range(len(x)):\n",
    "            idx.append([i, j])\n",
    "        \n",
    "    idx = np.array(idx)\n",
    "    return idx"
   ]
  },
  {
   "cell_type": "code",
   "execution_count": 12,
   "metadata": {},
   "outputs": [],
   "source": [
    "def swap_edges(x):\n",
    "    combinations = itertools.combinations(np.arange(len(x)), 2)\n",
    "    return np.array([[v1,v2] for v1, v2 in combinations if 1 < v2 - v1 < len(x) - 1 ], 'int')"
   ]
  },
  {
   "cell_type": "code",
   "execution_count": 50,
   "metadata": {},
   "outputs": [],
   "source": [
    "def greedy_ver(start, out):\n",
    "    x = start\n",
    "    N_in = swap_vertices_inside(x)\n",
    "    N_out = swap_vertices_outside(x)\n",
    "    np.random.shuffle(N_in)\n",
    "    np.random.shuffle(N_out)\n",
    "    n_i, n_o = 0, 0\n",
    "    while True:\n",
    "        # jeśli nie ma już żadnych ruchów\n",
    "        if n_i >= len(N_in) and n_o >= len(N_out):\n",
    "            break\n",
    "        \n",
    "        # ruch zmieniający zbiór wierzchołków \n",
    "        elif (np.random.random() < 0.5 and n_o < len(N_out)) or n_i >= len(N_in):\n",
    "            idx = N_out[n_o]\n",
    "            diff = delta_change_outside(x, out, idx, distance_matrix)\n",
    "            if diff > 0:\n",
    "                ver1 = x[idx[0]]\n",
    "                ver2 = out[idx[1]]\n",
    "                x[idx[0]] = ver2\n",
    "                out[idx[1]] = ver1\n",
    "                N_in = swap_vertices_inside(x)\n",
    "                N_out = swap_vertices_outside(x)\n",
    "                np.random.shuffle(N_in)\n",
    "                np.random.shuffle(N_out)\n",
    "                n_i, n_o = 0, 0\n",
    "            else:\n",
    "                n_o += 1\n",
    "\n",
    "            \n",
    "        #ruch wewnątrz trasowy - zamiana wierzchołków\n",
    "        else:\n",
    "            idx = N_in[n_i]\n",
    "            diff =delta_change_inside_vertices(x, idx, distance_matrix)\n",
    "            if diff > 0:\n",
    "                x[idx[0]], x[idx[1]] = x[idx[1]], x[idx[0]]\n",
    "                N_in = swap_vertices_inside(x)\n",
    "                N_out = swap_vertices_outside(x)\n",
    "                np.random.shuffle(N_in)\n",
    "                np.random.shuffle(N_out)\n",
    "                n_i, n_o = 0, 0\n",
    "            else:\n",
    "                n_i += 1\n",
    "            \n",
    "    return x"
   ]
  },
  {
   "cell_type": "code",
   "execution_count": 51,
   "metadata": {},
   "outputs": [],
   "source": [
    "MIN = 100000\n",
    "MAX = 0\n",
    "SUM = 0\n",
    "for i in range(100):\n",
    "    x, out = random_path(50, 100)\n",
    "    x = greedy_ver(x, out)\n",
    "    len_x = path_length(x)\n",
    "    \n",
    "    if len_x > MAX:\n",
    "        MAX = len_x\n",
    "    if len_x < MIN:\n",
    "        MIN = len_x\n",
    "    SUM += len_x"
   ]
  },
  {
   "cell_type": "code",
   "execution_count": 52,
   "metadata": {},
   "outputs": [
    {
     "name": "stdout",
     "output_type": "stream",
     "text": [
      "13288\n",
      "20894\n",
      "17080.73\n"
     ]
    }
   ],
   "source": [
    "print(MIN)\n",
    "print(MAX)\n",
    "print(SUM/100)"
   ]
  },
  {
   "cell_type": "code",
   "execution_count": 39,
   "metadata": {},
   "outputs": [
    {
     "name": "stdout",
     "output_type": "stream",
     "text": [
      "12056\n",
      "19903\n",
      "16465.17\n"
     ]
    }
   ],
   "source": [
    "print(MIN)\n",
    "print(MAX)\n",
    "print(SUM/100)"
   ]
  },
  {
   "cell_type": "code",
   "execution_count": 55,
   "metadata": {},
   "outputs": [],
   "source": [
    "def greedy_edge(start, out):\n",
    "    x = start\n",
    "    N_in = swap_edges(x)\n",
    "    N_out = swap_vertices_outside(x)\n",
    "    np.random.shuffle(N_in)\n",
    "    np.random.shuffle(N_out)\n",
    "    n_i, n_o = 0, 0\n",
    "    while True:\n",
    "        # jeśli nie ma już żadnych ruchów\n",
    "        if n_i >= len(N_in) and n_o >= len(N_out):\n",
    "            break\n",
    "        \n",
    "        # ruch zmieniający zbiór wierzchołków \n",
    "        elif (np.random.random() < 0.5 and n_o < len(N_out)) or n_i >= len(N_in):\n",
    "            idx = N_out[n_o]\n",
    "            diff = delta_change_outside(x, out, idx, distance_matrix)\n",
    "            if diff > 0:\n",
    "                ver1 = x[idx[0]]\n",
    "                ver2 = out[idx[1]]\n",
    "                x[idx[0]] = ver2\n",
    "                out[idx[1]] = ver1                \n",
    "                N_in = swap_edges(x)\n",
    "                N_out = swap_vertices_outside(x)\n",
    "                np.random.shuffle(N_in)\n",
    "                np.random.shuffle(N_out)\n",
    "                n_i, n_o = 0, 0\n",
    "            else:\n",
    "                n_o += 1\n",
    "\n",
    "            \n",
    "        #ruch wewnątrz trasowy zamiana krawędzi\n",
    "        else:\n",
    "            idx = N_in[n_i]\n",
    "            diff = delta_change_inside_edges(x, idx, distance_matrix)\n",
    "            if diff > 0:\n",
    "                a = x[idx[0]:idx[1]+1]\n",
    "                a = np.flip(a)\n",
    "                x[idx[0]:idx[1]+1] = a\n",
    "                N_in = swap_edges(x)\n",
    "                N_out = swap_vertices_outside(x)\n",
    "                np.random.shuffle(N_in)\n",
    "                np.random.shuffle(N_out)\n",
    "                n_i, n_o = 0, 0\n",
    "            else:\n",
    "                n_i += 1\n",
    "            \n",
    "    return x"
   ]
  },
  {
   "cell_type": "code",
   "execution_count": null,
   "metadata": {},
   "outputs": [],
   "source": [
    "MIN = 100000\n",
    "MAX = 0\n",
    "SUM = 0\n",
    "for i in range(100):\n",
    "    x, out = random_path(50, 100)\n",
    "    x = greedy_edge(x, out)\n",
    "    len_x = path_length(x)\n",
    "    \n",
    "    if len_x > MAX:\n",
    "        MAX = len_x\n",
    "    if len_x < MIN:\n",
    "        MIN = len_x\n",
    "    SUM += len_x"
   ]
  },
  {
   "cell_type": "code",
   "execution_count": null,
   "metadata": {},
   "outputs": [],
   "source": [
    "print(MIN)\n",
    "print(MAX)\n",
    "print(SUM/100)"
   ]
  },
  {
   "cell_type": "markdown",
   "metadata": {},
   "source": [
    "# Steepest"
   ]
  },
  {
   "cell_type": "code",
   "execution_count": 13,
   "metadata": {},
   "outputs": [],
   "source": [
    "def steepest_ver(start, out):\n",
    "    x = start\n",
    "    N_in = swap_vertices_inside(x)\n",
    "    N_out = swap_vertices_outside(x)\n",
    "    np.random.shuffle(N_in)\n",
    "    np.random.shuffle(N_out)\n",
    "    while True:\n",
    "        max_diff_o = 0\n",
    "        idx_o = 0\n",
    "        for id in range(len(N_out)):\n",
    "            idx = N_out[id]\n",
    "            diff = delta_change_outside(x, out, idx, distance_matrix)\n",
    "            if diff > max_diff_o:\n",
    "                max_diff_o = diff\n",
    "                idx_o = idx\n",
    "        max_diff_i = 0\n",
    "        idx_i = 0\n",
    "        for id in range(len(N_in)):\n",
    "            idx = N_in[id]\n",
    "            diff = delta_change_inside_vertices(x, idx, distance_matrix)\n",
    "            if diff > max_diff_i:\n",
    "                max_diff_i = diff\n",
    "                idx_i = idx\n",
    "\n",
    "        if (max_diff_i > 0) or (max_diff_o > 0):\n",
    "            # ruch zmieniający zbiór wierzchołków \n",
    "            if max_diff_o > max_diff_i:\n",
    "                ver1 = x[idx_o[0]]\n",
    "                ver2 = out[idx_o[1]]\n",
    "                x[idx_o[0]] = ver2\n",
    "                out[idx_o[1]] = ver1\n",
    "                N_in = swap_vertices_inside(x)\n",
    "                N_out = swap_vertices_outside(x)\n",
    "                np.random.shuffle(N_in)\n",
    "                np.random.shuffle(N_out)\n",
    "\n",
    "            #ruch wewnątrztrasowy - zamiana wierzchołków\n",
    "            else:\n",
    "                x[idx_i[0]], x[idx_i[1]] = x[idx_i[1]], x[idx_i[0]]\n",
    "                N_in = swap_vertices_inside(x)\n",
    "                N_out = swap_vertices_outside(x)\n",
    "                np.random.shuffle(N_in)\n",
    "                np.random.shuffle(N_out)\n",
    "        else:\n",
    "            break\n",
    "            \n",
    "    return x"
   ]
  },
  {
   "cell_type": "code",
   "execution_count": 14,
   "metadata": {},
   "outputs": [],
   "source": [
    "def steepest_edge(start, out):\n",
    "    x = start\n",
    "    N_in = swap_edges(x)\n",
    "    N_out = swap_vertices_outside(x)\n",
    "    while True:\n",
    "        max_diff_o = 0\n",
    "        idx_o = 0\n",
    "        for id in range(len(N_out)):\n",
    "            idx = N_out[id]\n",
    "            diff = delta_change_outside(x, out, idx, distance_matrix)\n",
    "            if diff > max_diff_o:\n",
    "                max_diff_o = diff\n",
    "                idx_o = idx\n",
    "        max_diff_i = 0\n",
    "        idx_i = 0\n",
    "        for id in range(len(N_in)):\n",
    "            idx = N_in[id]\n",
    "            diff = delta_change_inside_edges(x, idx, distance_matrix)\n",
    "            if diff > max_diff_i:\n",
    "                max_diff_i = diff\n",
    "                idx_i = idx\n",
    "                \n",
    "        if (max_diff_i > 0) or (max_diff_o > 0):        \n",
    "            # ruch zmieniający zbiór wierzchołków \n",
    "            if max_diff_o > max_diff_i:\n",
    "                ver1 = x[idx_o[0]]\n",
    "                ver2 = out[idx_o[1]]\n",
    "                x[idx_o[0]] = ver2\n",
    "                out[idx_o[1]] = ver1                \n",
    "                N_in = swap_edges(x)\n",
    "                N_out = swap_vertices_outside(x)\n",
    "\n",
    "            #ruch wewnątrztrasowy zamiana krawędzi\n",
    "            else:\n",
    "                a = x[idx_i[0]:idx_i[1]+1]\n",
    "                a = np.flip(a)\n",
    "                x[idx_i[0]:idx_i[1]+1] = a\n",
    "                N_in = swap_edges(x)\n",
    "                N_out = swap_vertices_outside(x)\n",
    "        else:\n",
    "            break\n",
    "            \n",
    "    return x"
   ]
  },
  {
   "cell_type": "code",
   "execution_count": 15,
   "metadata": {},
   "outputs": [],
   "source": [
    "def print_plot(data, points, title, saveas):\n",
    "    f = plt.figure()\n",
    "    plt.plot(data[:, 0], data[:, 1], \"o\", linewidth=0, alpha=0.4)\n",
    "    plt.plot(data[points, 0], data[points, 1], \"o\", color='tab:blue',  linewidth=0, alpha=0.6)\n",
    "    plt.plot(data[points, 0], data[points, 1], \"--\", color=\"tab:cyan\", linewidth=1, alpha=2)\n",
    "    plt.xlabel(\"x\")\n",
    "    plt.ylabel(\"y\")\n",
    "    plt.title(title)\n",
    "    plt.grid(False)\n",
    "    \n",
    "    plt.show()\n",
    "    f.savefig(saveas, bbox_inches='tight')"
   ]
  },
  {
   "cell_type": "code",
   "execution_count": 23,
   "metadata": {},
   "outputs": [
    {
     "data": {
      "image/png": "[encoded data removed]",
      "text/plain": [
       "<Figure size 432x288 with 1 Axes>"
      ]
     },
     "metadata": {
      "needs_background": "light"
     },
     "output_type": "display_data"
    }
   ],
   "source": [
    "MIN = 100000\n",
    "MAX = 0\n",
    "SUM = 0\n",
    "for i in range(1):\n",
    "    x, out = random_path(50, 100)\n",
    "    x = steepest_edge(x, out)\n",
    "    x = np.append(x, x[0])\n",
    "    len_x = path_length(x)\n",
    "    \n",
    "    if len_x > MAX:\n",
    "        MAX = len_x\n",
    "        MAX_path = x\n",
    "    if len_x < MIN:\n",
    "        MIN = len_x\n",
    "        MIN_path = x\n",
    "    SUM += len_x\n",
    "print_plot(data, MIN_path, \"Steepest_vert - kroA100\", 'steepest_edge_kroA100')"
   ]
  },
  {
   "cell_type": "code",
   "execution_count": 22,
   "metadata": {},
   "outputs": [
    {
     "name": "stdout",
     "output_type": "stream",
     "text": [
      "14217\n",
      "14217\n",
      "142.17\n"
     ]
    }
   ],
   "source": [
    "print(MIN)\n",
    "print(MAX)\n",
    "print(SUM/100)"
   ]
  }
 ],
 "metadata": {
  "kernelspec": {
   "display_name": "Python 3",
   "language": "python",
   "name": "python3"
  },
  "language_info": {
   "codemirror_mode": {
    "name": "ipython",
    "version": 3
   },
   "file_extension": ".py",
   "mimetype": "text/x-python",
   "name": "python",
   "nbconvert_exporter": "python",
   "pygments_lexer": "ipython3",
   "version": "3.7.4"
  }
 },
 "nbformat": 4,
 "nbformat_minor": 4
}

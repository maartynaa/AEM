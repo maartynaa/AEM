{
 "cells": [
  {
   "cell_type": "code",
   "execution_count": 1,
   "metadata": {},
   "outputs": [],
   "source": [
    "import numpy as np\n",
    "from scipy.spatial import distance_matrix\n",
    "import matplotlib.pyplot as plt\n",
    "import random\n",
    "import itertools\n",
    "import time"
   ]
  },
  {
   "cell_type": "markdown",
   "metadata": {},
   "source": [
    "# Load instance"
   ]
  },
  {
   "cell_type": "code",
   "execution_count": 2,
   "metadata": {},
   "outputs": [],
   "source": [
    "instance_number = 1  # 0 - \"kroA200.tsp\"    1 - \"kroB200.tsp\"\n",
    "instances_names = [\"kroA200.tsp\",\"kroB200.tsp\"]\n",
    "data = np.genfromtxt(f'instances/{instances_names[instance_number]}', skip_header=6, skip_footer=1, dtype='int64')[:,1:]"
   ]
  },
  {
   "cell_type": "markdown",
   "metadata": {},
   "source": [
    "# Calculating distance matrix"
   ]
  },
  {
   "cell_type": "code",
   "execution_count": 3,
   "metadata": {},
   "outputs": [],
   "source": [
    "def calc_distance_matrix(data):\n",
    "    dist_matrix = distance_matrix(data, data)\n",
    "    dist_matrix = np.around(dist_matrix, decimals=0)\n",
    "    dist_matrix = dist_matrix.astype(int)\n",
    "    return dist_matrix"
   ]
  },
  {
   "cell_type": "code",
   "execution_count": 4,
   "metadata": {},
   "outputs": [
    {
     "data": {
      "text/plain": [
       "array([[   0, 2607,  549, ..., 1240, 1232, 3117],\n",
       "       [2607,    0, 3154, ..., 3442, 1644,  933],\n",
       "       [ 549, 3154,    0, ..., 1097, 1713, 3658],\n",
       "       ...,\n",
       "       [1240, 3442, 1097, ...,    0, 2398, 3680],\n",
       "       [1232, 1644, 1713, ..., 2398,    0, 2406],\n",
       "       [3117,  933, 3658, ..., 3680, 2406,    0]])"
      ]
     },
     "execution_count": 4,
     "metadata": {},
     "output_type": "execute_result"
    }
   ],
   "source": [
    "distance_matrix = calc_distance_matrix(data)\n",
    "distance_matrix"
   ]
  },
  {
   "cell_type": "markdown",
   "metadata": {},
   "source": [
    "# GREEDY"
   ]
  },
  {
   "cell_type": "code",
   "execution_count": 5,
   "metadata": {},
   "outputs": [],
   "source": [
    "def random_path(length, dataset_size):\n",
    "    points = np.arange(dataset_size)\n",
    "    np.random.shuffle(points)\n",
    "    path, outside = points[:length], points[length:]\n",
    "    return path, outside"
   ]
  },
  {
   "cell_type": "code",
   "execution_count": 6,
   "metadata": {},
   "outputs": [],
   "source": [
    "def knn(k, x, out, distance_matrix):\n",
    "    tab = []\n",
    "    pomx = x.tolist()\n",
    "    for i in range(len(x)):\n",
    "        sort_neigh = np.argsort(distance_matrix[x[i]])[1:]\n",
    "        sort_neigh = sort_neigh[~np.in1d(sort_neigh, out)]\n",
    "        for elem in sort_neigh[:5]:\n",
    "            j = pomx.index(elem)\n",
    "            neigh = [i, j]\n",
    "            neigh.sort()\n",
    "            if 1 < neigh[1] - neigh[0] < len(x) - 1:\n",
    "                tab.append(neigh)\n",
    "    tab = np.array(tab)\n",
    "    tab = np.unique(tab,axis=0)\n",
    "    return tab"
   ]
  },
  {
   "cell_type": "code",
   "execution_count": 7,
   "metadata": {},
   "outputs": [],
   "source": [
    "def path_length(path):\n",
    "\tlength = 0\n",
    "\tfor i in range(len(path)-1):\n",
    "\t\tlength += distance_matrix[path[i], path[i+1]]\n",
    "\n",
    "\tlength += distance_matrix[path[-1], path[0]]\n",
    "\treturn length"
   ]
  },
  {
   "cell_type": "code",
   "execution_count": 8,
   "metadata": {},
   "outputs": [],
   "source": [
    "def delta_change_outside(size, x, out, index, distance_matrix):\n",
    "    i = index[0]\n",
    "    j = index[1]\n",
    "    \n",
    "    old = distance_matrix[x[(i-1)%size], x[i]] + distance_matrix[x[i], x[(i+1)%size]]\n",
    "    new = distance_matrix[x[(i-1)%size], out[j]] + distance_matrix[out[j], x[(i+1)%size]]\n",
    "       \n",
    "    return old - new"
   ]
  },
  {
   "cell_type": "code",
   "execution_count": 9,
   "metadata": {},
   "outputs": [],
   "source": [
    "def delta_change_inside_edges(size, x, index, distance_matrix):\n",
    "    i = index[0]\n",
    "    j = index[1]\n",
    "    \n",
    "    old = distance_matrix[x[(i-1)%size], x[i]] + distance_matrix[x[j], x[(j+1)%size]]\n",
    "    new = distance_matrix[x[(i-1)%size], x[j]] + distance_matrix[x[i], x[(j+1)%size]]\n",
    "    \n",
    "    return old - new"
   ]
  },
  {
   "cell_type": "code",
   "execution_count": 10,
   "metadata": {},
   "outputs": [],
   "source": [
    "def swap_vertices_outside(x):\n",
    "    idx = []\n",
    "    for i in range(len(x)):\n",
    "        for j in range(len(x)):\n",
    "            idx.append([i, j])\n",
    "        \n",
    "    idx = np.array(idx)\n",
    "    return idx"
   ]
  },
  {
   "cell_type": "code",
   "execution_count": 11,
   "metadata": {},
   "outputs": [],
   "source": [
    "def steepest_edge_candidate(size, start, out):\n",
    "    x = start\n",
    "    \n",
    "    # wyznaczenie sąsiedztwa\n",
    "    N_in = knn(5, x, out, distance_matrix)  \n",
    "    N_out = swap_vertices_outside(x)\n",
    "    \n",
    "    while True:\n",
    "        # wybór najlepszego ruchu zamiany dwóch wierzchołków \n",
    "        max_diff_o = 0\n",
    "        idx_o = 0\n",
    "        for id in range(len(N_out)):\n",
    "            idx = N_out[id]\n",
    "            diff = delta_change_outside(size, x, out, idx, distance_matrix)\n",
    "            if diff > max_diff_o:\n",
    "                max_diff_o = diff\n",
    "                idx_o = idx\n",
    "                \n",
    "        #wybór najlepszego ruchu zamiany dówch krawędzi \n",
    "        max_diff_i = 0\n",
    "        idx_i = 0\n",
    "        for id in range(len(N_in)):\n",
    "            idx = [N_in[id][0], (N_in[id][1]-1)%size]\n",
    "            diff = delta_change_inside_edges(size, x, idx, distance_matrix)\n",
    "            if diff > max_diff_i:\n",
    "                max_diff_i = diff\n",
    "                idx_i = idx\n",
    "                \n",
    "            idx = [(N_in[id][0]+1)%size, N_in[id][1]]\n",
    "            diff = delta_change_inside_edges(size, x, idx, distance_matrix)\n",
    "            if diff > max_diff_i:\n",
    "                max_diff_i = diff\n",
    "                idx_i = idx\n",
    "            \n",
    "                \n",
    "        if (max_diff_i > 0) or (max_diff_o > 0):        \n",
    "            # ruch zmieniający zbiór wierzchołków \n",
    "            if max_diff_o > max_diff_i:\n",
    "                ver1 = x[idx_o[0]]\n",
    "                ver2 = out[idx_o[1]]\n",
    "                x[idx_o[0]] = ver2\n",
    "                out[idx_o[1]] = ver1  \n",
    "                N_in = knn(5, x, out, distance_matrix) \n",
    "                N_out = swap_vertices_outside(x)\n",
    "\n",
    "            #ruch wewnątrztrasowy zamiana krawędzi\n",
    "            else:\n",
    "                a = x[idx_i[0]:idx_i[1]+1]\n",
    "                a = np.flip(a)\n",
    "                x[idx_i[0]:idx_i[1]+1] = a\n",
    "                N_in = knn(5, x, out, distance_matrix) \n",
    "                N_out = swap_vertices_outside(x)\n",
    "        else:\n",
    "            break\n",
    "            \n",
    "    return x"
   ]
  },
  {
   "cell_type": "code",
   "execution_count": null,
   "metadata": {},
   "outputs": [],
   "source": [
    "MIN = 1000000\n",
    "MAX = 0\n",
    "SUM = 0\n",
    "T_MIN = 1000000\n",
    "T_MAX = 0\n",
    "T_SUM = 0\n",
    "\n",
    "for i in range(100):\n",
    "    if i%5 == 0:\n",
    "        print(i)\n",
    "    x, out = random_path(100, 200)\n",
    "    start = time.time()\n",
    "    x = steepest_edge_candidate(100, x, out)\n",
    "    t = time.time() - start\n",
    "    len_x = path_length(x)\n",
    "    \n",
    "    if len_x > MAX:\n",
    "        MAX = len_x\n",
    "    if len_x < MIN:\n",
    "        MIN = len_x\n",
    "        T = x\n",
    "    SUM += len_x\n",
    "    \n",
    "    if t > T_MAX:\n",
    "        T_MAX = t\n",
    "    if t < T_MIN:\n",
    "        T_MIN = t\n",
    "    T_SUM += t"
   ]
  },
  {
   "cell_type": "code",
   "execution_count": 13,
   "metadata": {},
   "outputs": [
    {
     "name": "stdout",
     "output_type": "stream",
     "text": [
      "15528\n",
      "18793\n",
      "17204.21\n"
     ]
    }
   ],
   "source": [
    "print(MIN)\n",
    "print(MAX)\n",
    "print(SUM/100)"
   ]
  },
  {
   "cell_type": "code",
   "execution_count": 14,
   "metadata": {},
   "outputs": [
    {
     "name": "stdout",
     "output_type": "stream",
     "text": [
      "12.065017461776733\n",
      "16.93482518196106\n",
      "14.191400835514068\n"
     ]
    }
   ],
   "source": [
    "#time\n",
    "print(T_MIN)\n",
    "print(T_MAX)\n",
    "print(T_SUM/100)"
   ]
  },
  {
   "cell_type": "code",
   "execution_count": 15,
   "metadata": {},
   "outputs": [],
   "source": [
    "def print_plot(data, points):\n",
    "    f = plt.figure()\n",
    "    plt.plot(data[:, 0], data[:, 1], \"o\", linewidth=0, alpha=0.4)\n",
    "    plt.plot(data[points, 0], data[points, 1], \"o\", color='tab:blue',  linewidth=0, alpha=0.6)\n",
    "    plt.plot(data[points, 0], data[points, 1], \"--\", color=\"tab:cyan\", linewidth=1, alpha=2)\n",
    "    plt.xlabel(\"x\")\n",
    "    plt.ylabel(\"y\")\n",
    "    plt.title(\"Ruchy kandydackie - kroB200\")\n",
    "    plt.grid(False)\n",
    "    \n",
    "    plt.show()\n",
    "    f.savefig('candidateB.pdf', bbox_inches='tight')"
   ]
  },
  {
   "cell_type": "code",
   "execution_count": 16,
   "metadata": {},
   "outputs": [
    {
     "data": {
      "text/plain": [
       "array([157,   2,  10,  92, 121,  72,  52, 169, 148,  69,  38,  39, 189,\n",
       "       110,  48,  85, 137, 165, 151,  37,  19,  79,  29,  74, 126, 123,\n",
       "        64, 187,  78, 178,  46,  87, 170, 103, 152,  23,  17,  44,  35,\n",
       "        16, 191,  77, 186, 125,  12, 154,   1, 108,  41, 119,  13, 124,\n",
       "        15, 104,  76, 102, 182, 139, 105, 158,  49, 184,  88,  86, 113,\n",
       "       167, 198, 130, 177,  73, 164,  59, 185,   6,  83,  57,  51, 162,\n",
       "        53, 114, 168,  24,   8, 160,  11, 173,   0,  94,  97,  31, 166,\n",
       "       174,  58, 135,  28,   7,  98,  90, 128,  27, 157])"
      ]
     },
     "execution_count": 16,
     "metadata": {},
     "output_type": "execute_result"
    }
   ],
   "source": [
    "T = np.append(T, T[0])\n",
    "T"
   ]
  },
  {
   "cell_type": "code",
   "execution_count": 17,
   "metadata": {},
   "outputs": [
    {
     "data": {
      "image/png": "[encoded data removed]",
      "text/plain": [
       "<Figure size 432x288 with 1 Axes>"
      ]
     },
     "metadata": {
      "needs_background": "light"
     },
     "output_type": "display_data"
    }
   ],
   "source": [
    "print_plot(data, T)"
   ]
  },
  {
   "cell_type": "markdown",
   "metadata": {},
   "source": [
    "Zwykły steepest - dla porównania"
   ]
  },
  {
   "cell_type": "code",
   "execution_count": 18,
   "metadata": {},
   "outputs": [],
   "source": [
    "def swap_edges(x):\n",
    "    combinations = itertools.combinations(np.arange(len(x)), 2)\n",
    "    return np.array([[v1,v2] for v1, v2 in combinations if 1 < v2 - v1 < len(x) - 1 ], 'int')"
   ]
  },
  {
   "cell_type": "code",
   "execution_count": 19,
   "metadata": {},
   "outputs": [],
   "source": [
    "def steepest_edge(size, start, out):\n",
    "    x = start\n",
    "    N_in = swap_edges(x)\n",
    "    N_out = swap_vertices_outside(x)\n",
    "    while True:\n",
    "        max_diff_o = 0\n",
    "        idx_o = 0\n",
    "        for id in range(len(N_out)):\n",
    "            idx = N_out[id]\n",
    "            diff = delta_change_outside(size, x, out, idx, distance_matrix)\n",
    "            if diff > max_diff_o:\n",
    "                max_diff_o = diff\n",
    "                idx_o = idx\n",
    "        max_diff_i = 0\n",
    "        idx_i = 0\n",
    "        for id in range(len(N_in)):\n",
    "            idx = N_in[id]\n",
    "            diff = delta_change_inside_edges(size, x, idx, distance_matrix)\n",
    "            if diff > max_diff_i:\n",
    "                max_diff_i = diff\n",
    "                idx_i = idx\n",
    "                \n",
    "        if (max_diff_i > 0) or (max_diff_o > 0):        \n",
    "            # ruch zmieniający zbiór wierzchołków \n",
    "            if max_diff_o > max_diff_i:\n",
    "                ver1 = x[idx_o[0]]\n",
    "                ver2 = out[idx_o[1]]\n",
    "                x[idx_o[0]] = ver2\n",
    "                out[idx_o[1]] = ver1                \n",
    "                N_in = swap_edges(x)\n",
    "                N_out = swap_vertices_outside(x)\n",
    "\n",
    "            #ruch wewnątrztrasowy zamiana krawędzi\n",
    "            else:\n",
    "                a = x[idx_i[0]:idx_i[1]+1]\n",
    "                a = np.flip(a)\n",
    "                x[idx_i[0]:idx_i[1]+1] = a\n",
    "                N_in = swap_edges(x)\n",
    "                N_out = swap_vertices_outside(x)\n",
    "        else:\n",
    "            break\n",
    "            \n",
    "    return x"
   ]
  },
  {
   "cell_type": "code",
   "execution_count": null,
   "metadata": {},
   "outputs": [],
   "source": [
    "MIN = 100000\n",
    "MAX = 0\n",
    "SUM = 0\n",
    "T_MIN = 100000\n",
    "T_MAX = 0\n",
    "T_SUM = 0\n",
    "\n",
    "for i in range(100):\n",
    "    print(i)\n",
    "    x, out = random_path(100, 200)\n",
    "    start = time.time()\n",
    "    x = steepest_edge(100, x, out)\n",
    "    t = time.time() - start\n",
    "    len_x = path_length(x)\n",
    "    \n",
    "    if len_x > MAX:\n",
    "        MAX = len_x\n",
    "    if len_x < MIN:\n",
    "        MIN = len_x\n",
    "        T = x\n",
    "    SUM += len_x\n",
    "    \n",
    "    if t > T_MAX:\n",
    "        T_MAX = t\n",
    "    if t < T_MIN:\n",
    "        T_MIN = t\n",
    "    T_SUM += t"
   ]
  },
  {
   "cell_type": "code",
   "execution_count": 21,
   "metadata": {},
   "outputs": [
    {
     "name": "stdout",
     "output_type": "stream",
     "text": [
      "15920\n",
      "19339\n",
      "17321.31\n",
      "14.472309350967407\n",
      "19.466919660568237\n",
      "16.652854590415956\n"
     ]
    }
   ],
   "source": [
    "print(MIN)\n",
    "print(MAX)\n",
    "print(SUM/100)\n",
    "#time\n",
    "print(T_MIN)\n",
    "print(T_MAX)\n",
    "print(T_SUM/100)"
   ]
  },
  {
   "cell_type": "code",
   "execution_count": 22,
   "metadata": {},
   "outputs": [],
   "source": [
    "def print_plot(data, points):\n",
    "    f = plt.figure()\n",
    "    plt.plot(data[:, 0], data[:, 1], \"o\", linewidth=0, alpha=0.4)\n",
    "    plt.plot(data[points, 0], data[points, 1], \"o\", color='tab:blue',  linewidth=0, alpha=0.6)\n",
    "    plt.plot(data[points, 0], data[points, 1], \"--\", color=\"tab:cyan\", linewidth=1, alpha=2)\n",
    "    plt.xlabel(\"x\")\n",
    "    plt.ylabel(\"y\")\n",
    "    plt.title(\"Steepest - kroB200\")\n",
    "    plt.grid(False)\n",
    "    \n",
    "    plt.show()\n",
    "    f.savefig('steepestB.pdf', bbox_inches='tight')"
   ]
  },
  {
   "cell_type": "code",
   "execution_count": 23,
   "metadata": {},
   "outputs": [
    {
     "data": {
      "image/png": "[encoded data removed]",
      "text/plain": [
       "<Figure size 432x288 with 1 Axes>"
      ]
     },
     "metadata": {
      "needs_background": "light"
     },
     "output_type": "display_data"
    }
   ],
   "source": [
    "T = np.append(T, T[0])\n",
    "T\n",
    "print_plot(data, T)"
   ]
  },
  {
   "cell_type": "code",
   "execution_count": null,
   "metadata": {},
   "outputs": [],
   "source": []
  }
 ],
 "metadata": {
  "kernelspec": {
   "display_name": "Python 3",
   "language": "python",
   "name": "python3"
  },
  "language_info": {
   "codemirror_mode": {
    "name": "ipython",
    "version": 3
   },
   "file_extension": ".py",
   "mimetype": "text/x-python",
   "name": "python",
   "nbconvert_exporter": "python",
   "pygments_lexer": "ipython3",
   "version": "3.8.2"
  }
 },
 "nbformat": 4,
 "nbformat_minor": 4
}
